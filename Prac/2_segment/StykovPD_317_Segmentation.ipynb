{
 "cells": [
  {
   "cell_type": "markdown",
   "metadata": {},
   "source": [
    "# 2 практическое задание. Сегментация изображений.\n",
    "\n",
    "## Практикум на ЭВМ для 317 группы, весна 2021\n",
    "\n",
    "#### Фамилия, имя: \n",
    "\n",
    "Дата выдачи: <span style=\"color:red\">__16 марта 00:00__</span>.\n",
    "\n",
    "Мягкий дедлайн: <span style=\"color:red\">__30 марта 23:59__</span>.\n",
    "\n",
    "Стоимость: __10 баллов__ (основная часть заданий) + __4 балла__ (дополнительные задания).\n",
    "\n",
    "<span style=\"color:red\">__В ноутбуке все клетки должны выполняться без ошибок при последовательном их выполнении.__</span>"
   ]
  },
  {
   "cell_type": "markdown",
   "metadata": {},
   "source": [
    "В этом задании вы будете решать задачу сегментации людей на фотографии с помощью нейросетевых архитектур `Unet` и `Linknet`. \n",
    "\n",
    "Данные для выполнения задания можно скачать по [ссылке](https://disk.yandex.ru/d/tI6d3LBMHTwOnw)."
   ]
  },
  {
   "cell_type": "markdown",
   "metadata": {},
   "source": [
    "## Загрузка данных (1 балл)"
   ]
  },
  {
   "cell_type": "markdown",
   "metadata": {},
   "source": [
    "Для загрузки данных pytorch опирается на такую сущность, как **`Dataset`**.\n",
    "\n",
    "Этот абстрактный класс определен в `torch.utils.data.dataset`:\n",
    "\n",
    "```python\n",
    "class Dataset(object):\n",
    "    \"\"\"An abstract class representing a Dataset.\n",
    "\n",
    "    All other datasets should subclass it. All subclasses should override\n",
    "    ``__len__``, that provides the size of the dataset, and ``__getitem__``,\n",
    "    supporting integer indexing in range from 0 to len(self) exclusive.\n",
    "    \"\"\"\n",
    "\n",
    "    def __getitem__(self, index):\n",
    "        raise NotImplementedError\n",
    "\n",
    "    def __len__(self):\n",
    "        raise NotImplementedError\n",
    "\n",
    "    def __add__(self, other):\n",
    "        return ConcatDataset([self, other])\n",
    "```\n",
    "При определении нового источника данных мы создаем наследника данного класса и реализуем методы `__getitem__` и `__len__`.\n",
    "\n",
    "Пример готового такого класса — `torchvision.datasets.ImageFolder`, который позволяет создать датасет на основе директории с imagenet-подобной структурой поддиректорий (`./train/{class}` и `./val/{class}`):\n",
    "\n",
    "```python\n",
    "imagenet = torchvision.datasets.ImageFolder('path/to/imagenet_root/')\n",
    "```"
   ]
  },
  {
   "cell_type": "markdown",
   "metadata": {},
   "source": [
    "Реализуйте класс `PhotosDataset` для выданных данных.\n",
    "\n",
    "**Внимание.** Возможно, стоит прочитать следующий пункт задания, чтобы реализация была удобной."
   ]
  },
  {
   "cell_type": "code",
   "execution_count": 2,
   "metadata": {},
   "outputs": [],
   "source": [
    "import torch\n",
    "import torch.nn as nn\n",
    "\n",
    "import numpy as np\n",
    "import numpy.testing as npt\n",
    "\n",
    "from torchvision.models import vgg13\n",
    "from torch.utils.data import Dataset, DataLoader\n",
    "\n",
    "import matplotlib_inline\n",
    "import matplotlib.pyplot as plt\n",
    "%config InlineBackend.figure_formats = ['svg', 'pdf']\n",
    "\n",
    "%matplotlib inline\n",
    "# matplotlib_inline backend_inline.set_matplotlib_formats('pdf', 'svg')"
   ]
  },
  {
   "cell_type": "code",
   "execution_count": 20,
   "metadata": {},
   "outputs": [],
   "source": [
    "import PIL.Image as Image\n",
    "import os\n",
    "\n",
    "class PhotosDataset(Dataset):\n",
    "    def __init__(self, images_dir, target_dir=None, transforms=None):\n",
    "        \"\"\"\n",
    "        Arguments\n",
    "        ---------\n",
    "        images_dir : str\n",
    "            Path to directory with images\n",
    "            \n",
    "        target_dir : str\n",
    "            Path to directory with masks.\n",
    "            Each mask corresponds to one image.\n",
    "            Corresponding mask and image have the same name, but different format.\n",
    "            \n",
    "        transforms : some collection\n",
    "            Sequence of transformations for images and masks. \n",
    "        \"\"\"\n",
    "\n",
    "        self.transforms = transforms\n",
    "        self.im_paths = sorted([os.path.join(images_dir, im) for im in os.listdir(images_dir)])\n",
    "        self.mask_paths = sorted([os.path.join(target_dir, im) for im in os.listdir(target_dir)])\n",
    "\n",
    "         \n",
    "    def __len__(self):\n",
    "\n",
    "        return len(self.im_paths)\n",
    "                   \n",
    "    def __getitem__(self, idx):\n",
    "        \"\"\"\n",
    "        Arguments\n",
    "        ---------\n",
    "        idx : int\n",
    "            Index of image and mask\n",
    "        \n",
    "        Returns\n",
    "        -------\n",
    "        (image, mask)\n",
    "        \"\"\"\n",
    "        \n",
    "        im = Image.open(self.im_paths[idx])\n",
    "        mask = Image.open(self.mask_paths[idx])\n",
    "        for transform in self.transforms:\n",
    "            im, mask = transform(im, mask)\n",
    "\n",
    "        return im, mask"
   ]
  },
  {
   "cell_type": "markdown",
   "metadata": {},
   "source": [
    "## Модуль аугментации (3 балла)"
   ]
  },
  {
   "cell_type": "markdown",
   "metadata": {},
   "source": [
    "Конструктор стандартного `ImageFolder`, принимают параметр `transform` (и иногда `target_transform`).\n",
    "\n",
    "Они служат для того, чтобы загружаемые изображения (обычно это `PIL.Image`) или таргеты преобразовывать в тензоры нужного вида.\n",
    "\n",
    "В `torchvision` входит модуль `transforms` для стандартных примеров таких преобразований. В `transforms` могут содержаться случайные преобразования, это самый простой путь для реализации аугментации данных.\n",
    "\n",
    "При определении кастомного трансформера помимо конструктора нужно реализовать лишь метод `__call__`:\n",
    "\n",
    "```python\n",
    "class HorizontalFlip(object):\n",
    "    def __init__(self, mode=0):\n",
    "        self.method = mode\n",
    "\n",
    "    def __call__(self, img):\n",
    "        \"\"\"\n",
    "        Args:\n",
    "            img (PIL.Image): Image to be flipped.\n",
    "\n",
    "        Returns:\n",
    "            PIL.Image: Randomly flipped image.\n",
    "        \"\"\"\n",
    "        if self.method:\n",
    "            return img.transpose(Image.FLIP_LEFT_RIGHT)\n",
    "        return img\n",
    "\n",
    "```\n",
    "\n",
    "С полным списком стандартных преобразований можно ознакомиться в [документации](https://pytorch.org/vision/0.12/transforms.html)."
   ]
  },
  {
   "cell_type": "markdown",
   "metadata": {},
   "source": [
    "В данной части вам предлагается самостоятельно реализовать несколько кастомных трансформеров.\n",
    "Обратите внимание, что для некоторых трансформеров, необходимо преобразовывать и изображение, и маску, а для каких-то только изображение.\n",
    "\n",
    "Один из путей реализации:\n",
    "* реализовать декоратор, делающий любое преобразование случайным\n",
    "* реализовать декоратор, применяющий преобразование и к изображению, и к маске\n",
    "\n",
    "Список трансформеров, которые надо реализовать:"
   ]
  },
  {
   "cell_type": "markdown",
   "metadata": {},
   "source": [
    "* случайное (с вероятностью $p$) горизонтальное отображение (flip) изображения \n",
    "* случайное (с вероятностью $p$) вырезание фрагмента изображения (заданного или случайного размера)\n",
    "* случайное (с вероятностью $p$) изменение яркости изображения (на заданную или случайную величину)\n",
    "* случайное (с вероятностью $p$) изменение фона изображения (на изображение из заданного списка изображений)"
   ]
  },
  {
   "cell_type": "code",
   "execution_count": 34,
   "metadata": {},
   "outputs": [],
   "source": [
    "import functools\n",
    "import torchvision.transforms\n",
    "import random\n",
    "\n",
    "def img_and_mask(func, p=1):\n",
    "    @functools.wraps(func)\n",
    "    def wrapper(img: Image, mask: Image):\n",
    "        if random.random() < p:\n",
    "            return func(img), func(mask)\n",
    "        else:\n",
    "            return img, mask\n",
    "    \n",
    "    return wrapper\n",
    "\n",
    "def id_img_and_mask(func, p=1):\n",
    "    @functools.wraps(func)\n",
    "    def wrapper(img: Image, mask: Image):\n",
    "        if random.random() < p:\n",
    "            return func(img), mask\n",
    "        \n",
    "    \n",
    "    return wrapper\n",
    "\n",
    "class HorizontalFlip(object):  \n",
    "    def __init__(self):\n",
    "        return\n",
    "              \n",
    "    def __call__(self, im: Image) -> Image:\n",
    "        \"\"\"\n",
    "        Args:\n",
    "            img (PIL.Image): Image to be flipped.\n",
    "\n",
    "        Returns:\n",
    "            PIL.Image: Randomly flipped image.\n",
    "        \"\"\"\n",
    "        return im.transpose(Image.FLIP_LEFT_RIGHT)\n",
    "\n",
    "# class CutPatch(object):\n",
    "#     def __init__(self, p=0.5, height=None, width=None, left_buttom_point=None):\n",
    "        "
   ]
  },
  {
   "cell_type": "markdown",
   "metadata": {},
   "source": [
    "Добавьте случайные преобразования в ваши датасеты. Также, добавьте преобразование в tensor и нормализацию для изображения:\n",
    "\n",
    "```\n",
    "transforms.ToTensor()\n",
    "transforms.Normalize(mean=[0.485, 0.456, 0.406],\n",
    "                     std=[0.229, 0.224, 0.225])\n",
    "```"
   ]
  },
  {
   "cell_type": "code",
   "execution_count": 38,
   "metadata": {},
   "outputs": [],
   "source": [
    "import torchvision.transforms\n",
    "\n",
    "DATA_PATH = \"./people_data/\"\n",
    "\n",
    "train_dataset = PhotosDataset(\n",
    "    images_dir=DATA_PATH + 'train/',\n",
    "    target_dir=DATA_PATH + 'train_mask/',\n",
    "    transforms=[img_and_mask(HorizontalFlip(), p=0.5),\n",
    "                img_and_mask(torchvision.transforms.ToTensor()),\n",
    "                id_img_and_mask(torchvision.transforms.Normalize(mean=[0.485, 0.456, 0.406], std=[0.229, 0.224, 0.225]))]\n",
    ")\n",
    "\n",
    "test_dataset = PhotosDataset(\n",
    "    images_dir=DATA_PATH + 'test/',\n",
    "    target_dir=DATA_PATH + 'test_mask/',\n",
    "    transforms=[img_and_mask(HorizontalFlip(), p=0.5),\n",
    "                img_and_mask(torchvision.transforms.ToTensor()),\n",
    "                id_img_and_mask(torchvision.transforms.Normalize(mean=[0.485, 0.456, 0.406], std=[0.229, 0.224, 0.225]))]\n",
    ")"
   ]
  },
  {
   "cell_type": "markdown",
   "metadata": {},
   "source": [
    "Функция для отображения изображения:"
   ]
  },
  {
   "cell_type": "code",
   "execution_count": 39,
   "metadata": {},
   "outputs": [],
   "source": [
    "def show_idx_image(dataset, idx):\n",
    "    mask_img = dataset[idx]\n",
    "\n",
    "    image_to_show = mask_img[0].transpose(0, 1).transpose(1, 2).numpy()\n",
    "    image_to_show = (image_to_show * np.array([0.229, 0.224, 0.225])) + np.array([0.485, 0.456, 0.406])\n",
    "    image_to_show = np.clip(image_to_show, 0, 1)\n",
    "\n",
    "    mask_to_show = mask_img[1][0].numpy()\n",
    "\n",
    "    fig, ax = plt.subplots(1, 3)\n",
    "    fig.set_figwidth(7)\n",
    "    fig.set_figheight(3)\n",
    "\n",
    "\n",
    "    plt.subplot(1, 2, 1)\n",
    "    plt.imshow(image_to_show)\n",
    "    plt.axis('off')\n",
    "\n",
    "    plt.subplot(1, 2, 2)\n",
    "    plt.imshow(mask_to_show)\n",
    "    plt.axis('off')"
   ]
  },
  {
   "cell_type": "markdown",
   "metadata": {},
   "source": [
    "Отобразите несколько изображений и масок, на которых будет видна правильная работа вашего модуля аугментации данных."
   ]
  },
  {
   "cell_type": "code",
   "execution_count": 57,
   "metadata": {},
   "outputs": [
    {
     "data": {
      "application/pdf": "[encoded data removed]",
      "image/svg+xml": "<?xml version=\"1.0\" encoding=\"utf-8\" standalone=\"no\"?>\n<!DOCTYPE svg PUBLIC \"-//W3C//DTD SVG 1.1//EN\"\n  \"http://www.w3.org/Graphics/SVG/1.1/DTD/svg11.dtd\">\n<!-- Created with matplotlib (https://matplotlib.org/) -->\n<svg height=\"177.48pt\" version=\"1.1\" viewBox=\"0 0 349.764545 177.48\" width=\"349.764545pt\" xmlns=\"http://www.w3.org/2000/svg\" xmlns:xlink=\"http://www.w3.org/1999/xlink\">\n <defs>\n  <style type=\"text/css\">\n*{stroke-linecap:butt;stroke-linejoin:round;}\n  </style>\n </defs>\n <g id=\"figure_1\">\n  <g id=\"patch_1\">\n   <path d=\"M 0 177.48 \nL 349.764545 177.48 \nL 349.764545 0 \nL 0 0 \nz\n\" style=\"fill:none;\"/>\n  </g>\n  <g id=\"axes_1\">\n   <g clip-path=\"url(#pbfb01eca8b)\">\n    <image height=\"164\" id=\"image4db1a32f1e\" transform=\"scale(1 -1)translate(0 -164)\" width=\"123\" x=\"7.2\" xlink:href=\"data:image/png;base64,\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\" y=\"-6.28\"/>\n   </g>\n  </g>\n  <g id=\"axes_2\">\n   <g clip-path=\"url(#p0f71c56348)\">\n    <image height=\"164\" id=\"image6f32be60ec\" transform=\"scale(1 -1)translate(0 -164)\" width=\"123\" x=\"220.254545\" xlink:href=\"data:image/png;base64,\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\" y=\"-6.28\"/>\n   </g>\n  </g>\n </g>\n <defs>\n  <clipPath id=\"pbfb01eca8b\">\n   <rect height=\"163.08\" width=\"122.31\" x=\"7.2\" y=\"7.2\"/>\n  </clipPath>\n  <clipPath id=\"p0f71c56348\">\n   <rect height=\"163.08\" width=\"122.31\" x=\"220.254545\" y=\"7.2\"/>\n  </clipPath>\n </defs>\n</svg>\n",
      "text/plain": [
       "<Figure size 504x216 with 2 Axes>"
      ]
     },
     "metadata": {
      "needs_background": "light"
     },
     "output_type": "display_data"
    }
   ],
   "source": [
    "show_idx_image(train_dataset, 3)"
   ]
  },
  {
   "cell_type": "markdown",
   "metadata": {},
   "source": [
    "## Загрузчики"
   ]
  },
  {
   "cell_type": "markdown",
   "metadata": {},
   "source": [
    "При обучении сети удобнее работать не с датасетами, а с загрузчиками. Загрузчики создаются на основе датасета и позволяют итерироваться по батчам из него.\n",
    "\n",
    "Обратите внимание на параметры `DataLoader`. При `num_workers`$\\;> 1$, батчи готовятся (загружаются картинки, обрабатываются и т.д.) сразу в нескольких фоновых процессах. С помощью параметра `shuffle` можно подавать картинки на обучение в случайном порядке."
   ]
  },
  {
   "cell_type": "code",
   "execution_count": 58,
   "metadata": {},
   "outputs": [],
   "source": [
    "train_data_loader = DataLoader(train_dataset, batch_size=8, shuffle=True)\n",
    "test_data_loader = DataLoader(test_dataset, batch_size=8)"
   ]
  },
  {
   "cell_type": "markdown",
   "metadata": {},
   "source": [
    "## DiceLoss (1 балл)"
   ]
  },
  {
   "cell_type": "markdown",
   "metadata": {},
   "source": [
    "Функция потерь реализовывается как и все стандартные нейронные модули в pytorch, через nn.Module. В ячейке ниже вам предлагается реализовать функцию потерь `dice` (аналог меры Жаккарда).\n",
    "\n",
    "Результат dice loss определим как:\n",
    "\n",
    "$$\n",
    "1 - \\frac{2\\sum\\limits_{i, j}a_{ij}b_{ij}}{\\sum\\limits_{ij}(a_{ij} + b_{ij} + \\varepsilon)}\n",
    "$$\n",
    "\n",
    "где $a_{ij} \\in [0, 1]$ — предсказанная вероятность нахождения человека в пикселе изображения, $b_{ij}$ — разметка для пикселя изображения."
   ]
  },
  {
   "cell_type": "code",
   "execution_count": 64,
   "metadata": {},
   "outputs": [],
   "source": [
    "class DiceLoss(nn.Module):\n",
    "    def __init__(self, eps=1e-7, reduction=None, with_logits=True):\n",
    "        \"\"\"\n",
    "        Arguments\n",
    "        ---------\n",
    "        eps : float\n",
    "            eps in denominator\n",
    "        reduction : Optional[str] (None, 'mean' or 'sum')\n",
    "            specifies the reduction to apply to the output:\n",
    "            \n",
    "            None: no reduction will be applied\n",
    "            'mean': the sum of the output will be divided by the number of batches in the output\n",
    "            'sum':  the output will be summed. \n",
    "        with_logits : bool\n",
    "            If True, use additional sigmoid for inputs\n",
    "        \"\"\"\n",
    "        super().__init__()\n",
    "        self.eps = eps\n",
    "        self.reduction = reduction\n",
    "        self.with_logits = with_logits\n",
    "        \n",
    "    def forward(self, logits, true_labels):\n",
    "        \"\"\"\n",
    "        logits : tensor\n",
    "            shape: (N, H, W)\n",
    "        \"\"\"\n",
    "        true_labels = true_labels.long()\n",
    "        \n",
    "        if self.with_logits:\n",
    "            logits = torch.sigmoid(logits)\n",
    "        \n",
    "        loss_value = 1 - 2 * torch.sum(logits * true_labels, (1, 2)) / torch.sum(logits + true_labels + self.eps, (1,2))\n",
    "\n",
    "        if self.reduction == 'sum':\n",
    "            loss_value = torch.sum(loss_value, 0)\n",
    "        elif self.reduction == 'mean':\n",
    "            loss_value = torch.mean(loss_value, 0)\n",
    "        elif  self.reduction is None:\n",
    "            loss_value = loss_value\n",
    "            \n",
    "        return loss_value"
   ]
  },
  {
   "cell_type": "markdown",
   "metadata": {},
   "source": [
    "Проверка реализации:"
   ]
  },
  {
   "cell_type": "code",
   "execution_count": 63,
   "metadata": {},
   "outputs": [],
   "source": [
    "logits = torch.tensor([\n",
    "    [[0, 0.5], [0.5, 1]],\n",
    "    [[0.1, 0.1], [0, 0]],\n",
    "])\n",
    "\n",
    "target = torch.tensor([\n",
    "    [[0, 1], [1, 1]],\n",
    "    [[1, 0], [0, 1]],\n",
    "])\n",
    "\n",
    "losses = DiceLoss(with_logits=False, reduction=None, eps=1e-7)(logits, target)\n",
    "npt.assert_almost_equal(losses.numpy(), np.array([0.2, 0.90909]), decimal=4)\n",
    "\n",
    "loss = DiceLoss(with_logits=False, reduction='mean', eps=1e-7)(logits, target)\n",
    "npt.assert_almost_equal(float(loss.numpy()), 0.554545, decimal=4)\n",
    "\n",
    "loss = DiceLoss(with_logits=False, reduction='sum', eps=1e-7)(logits, target)\n",
    "npt.assert_almost_equal(float(loss.numpy()), 1.10909, decimal=4)"
   ]
  },
  {
   "cell_type": "markdown",
   "metadata": {},
   "source": [
    "## Unet (2 балла)"
   ]
  },
  {
   "cell_type": "markdown",
   "metadata": {},
   "source": [
    "Для решения задачи сегментации будем использовать [UNet](https://arxiv.org/pdf/1505.04597.pdf) с энкодером из первых блоков предобученного `VGG13`. Архитектура сети реализована за вас ниже.\n",
    "\n",
    "Энкодер:"
   ]
  },
  {
   "cell_type": "code",
   "execution_count": 65,
   "metadata": {},
   "outputs": [],
   "source": [
    "class VGG13Encoder(torch.nn.Module):\n",
    "    def __init__(self, num_blocks, pretrained=True):\n",
    "        super().__init__()\n",
    "        self.num_blocks = num_blocks\n",
    "        self.blocks = nn.ModuleList()\n",
    "        # Obtaining pretrained VGG model from torchvision.models and\n",
    "        # copying all layers except for max pooling.\n",
    "        feature_extractor = vgg13(pretrained=pretrained).features\n",
    "        for i in range(self.num_blocks):\n",
    "            self.blocks.append(\n",
    "                torch.nn.Sequential(*[\n",
    "                    feature_extractor[j]\n",
    "                    for j in range(i * 5, i * 5 + 4)\n",
    "                ])\n",
    "            )\n",
    "\n",
    "    def forward(self, x):\n",
    "        activations = []\n",
    "        for i in range(self.num_blocks):\n",
    "            x = self.blocks[i](x)\n",
    "            activations.append(x)\n",
    "            if i != self.num_blocks - 1:\n",
    "                x = torch.functional.F.max_pool2d(x, kernel_size=2, stride=2)\n",
    "        return activations"
   ]
  },
  {
   "cell_type": "markdown",
   "metadata": {},
   "source": [
    "Декодер:"
   ]
  },
  {
   "cell_type": "code",
   "execution_count": null,
   "metadata": {},
   "outputs": [],
   "source": [
    "class DecoderBlock(torch.nn.Module):\n",
    "    def __init__(self, out_channels):\n",
    "        super().__init__()\n",
    "\n",
    "        self.upconv = torch.nn.Conv2d(\n",
    "            in_channels=out_channels * 2, out_channels=out_channels,\n",
    "            kernel_size=3, padding=1, dilation=1\n",
    "        )\n",
    "        self.conv1 = torch.nn.Conv2d(\n",
    "            in_channels=out_channels * 2, out_channels=out_channels,\n",
    "            kernel_size=3, padding=1, dilation=1\n",
    "        )\n",
    "        self.conv2 = torch.nn.Conv2d(\n",
    "            in_channels=out_channels, out_channels=out_channels,\n",
    "            kernel_size=3, padding=1, dilation=1\n",
    "        )\n",
    "        self.relu = nn.ReLU()\n",
    "        \n",
    "    def forward(self, down, left):\n",
    "        x = torch.nn.functional.interpolate(down, scale_factor=2)\n",
    "        x = self.upconv(x)\n",
    "        x = self.relu(self.conv1(torch.cat([left, x], 1)))\n",
    "        x = self.relu(self.conv2(x))\n",
    "        return x"
   ]
  },
  {
   "cell_type": "code",
   "execution_count": null,
   "metadata": {},
   "outputs": [],
   "source": [
    "class Decoder(nn.Module):\n",
    "    def __init__(self, num_filters, num_blocks):\n",
    "        super().__init__()\n",
    "\n",
    "        for i in range(num_blocks):\n",
    "            self.add_module(f'block{num_blocks - i}', DecoderBlock(num_filters * 2**i))\n",
    "\n",
    "    def forward(self, acts):\n",
    "        up = acts[-1]\n",
    "        for i, left in enumerate(acts[-2::-1]):\n",
    "            up = self.__getattr__(f'block{i + 1}')(up, left)\n",
    "        return up"
   ]
  },
  {
   "cell_type": "markdown",
   "metadata": {},
   "source": [
    "Сеть Unet:"
   ]
  },
  {
   "cell_type": "code",
   "execution_count": null,
   "metadata": {},
   "outputs": [],
   "source": [
    "class UNet(torch.nn.Module):\n",
    "    def __init__(self, num_classes=1, num_filters=64, num_blocks=4):\n",
    "        super().__init__()\n",
    "        self.encoder = VGG13Encoder(num_blocks=num_blocks)\n",
    "        self.decoder = Decoder(num_filters=64, num_blocks=num_blocks - 1)\n",
    "        self.final = torch.nn.Conv2d(\n",
    "            in_channels=num_filters, out_channels=num_classes, kernel_size=1\n",
    "        )\n",
    "\n",
    "    def forward(self, x):\n",
    "        acts = self.encoder(x)\n",
    "        x = self.decoder(acts)\n",
    "        x = self.final(x)\n",
    "        return x"
   ]
  },
  {
   "cell_type": "markdown",
   "metadata": {},
   "source": [
    "Функция для оценивания качества сети:"
   ]
  },
  {
   "cell_type": "code",
   "execution_count": null,
   "metadata": {},
   "outputs": [],
   "source": [
    "def evaluate_net(net, testloader, criterion, val_criterion, device='cpu'):\n",
    "    net = net.eval()\n",
    "\n",
    "    loss = 0.\n",
    "    correct = 0.\n",
    "    total = 0.\n",
    "    \n",
    "    with torch.no_grad():\n",
    "        for data in testloader:\n",
    "            images, labels = data\n",
    "            \n",
    "            images = images.to(device)\n",
    "            \n",
    "            outputs = net(images).to('cpu')\n",
    "            total += labels.size(0)\n",
    "            loss += float(criterion(outputs, labels).detach())\n",
    "            correct += float(val_criterion(outputs, labels).detach())\n",
    "    \n",
    "    mean_loss = loss / total\n",
    "    metric = correct / total\n",
    "    \n",
    "    return mean_loss, metric"
   ]
  },
  {
   "cell_type": "markdown",
   "metadata": {},
   "source": [
    "Теперь применим сеть на практике!\n",
    "\n",
    "Обучите сеть на обучающей выборке и протестируйте качество на тестовой выборке. \n",
    "\n",
    "Сначала при обучении используйте только кросс-энтропию (`torch.nn.BCEWithLogitsLoss` будет более удобна для бинарного случая). Зафиксируйте результат.\n",
    "\n",
    "Сравните между собой несколько стратегий оптимизации (только кросс-энтропия, только dice loss, сумма двух лоссов с весами). \n",
    "\n",
    "Для всех экспериментов отобразите графики функции потерь и качества за время обучения. Выведите получившиеся маски для нескольких изображений из датасета. Сделайте выводы."
   ]
  },
  {
   "cell_type": "code",
   "execution_count": null,
   "metadata": {},
   "outputs": [],
   "source": [
    "# your code here"
   ]
  },
  {
   "cell_type": "markdown",
   "metadata": {},
   "source": [
    "## LinkNet (2 балла)"
   ]
  },
  {
   "cell_type": "markdown",
   "metadata": {},
   "source": [
    "Реализуйте архитектуру [LinkNet](https://arxiv.org/pdf/1707.03718.pdf) с использованием энкодера, основанного на `VGG13`. Архитектура похожа на `Unet`, но вместо конкатенации слоёв используются skip-connections. Для реализации достаточно переписать структуру декодировщика из предыдущего пункта.\n",
    "\n",
    "Обучите сеть и проведите анализ согласно предыдущему пункту."
   ]
  },
  {
   "cell_type": "code",
   "execution_count": null,
   "metadata": {},
   "outputs": [],
   "source": [
    "# your code here"
   ]
  },
  {
   "cell_type": "markdown",
   "metadata": {},
   "source": [
    "Обучите LinkNet. Сравните LinkNet и Unet по качеству и скорости работы. Сделайте выводы. "
   ]
  },
  {
   "cell_type": "markdown",
   "metadata": {},
   "source": [
    "## Теоретические вопросы (1 балл)"
   ]
  },
  {
   "cell_type": "markdown",
   "metadata": {},
   "source": [
    "### Вопрос 1.\n",
    "* Сформулируйте два предположения о структуре входных данных, на которые опирается архитектура свёрточных сетей. \n",
    "* Какие преимущества дает использование сверток в случае, если эти предположения верные? \n",
    "* Приведите пример входных данных, когда эти предположения не выполняются."
   ]
  },
  {
   "cell_type": "markdown",
   "metadata": {},
   "source": [
    "*Ваш ответ в этой ячейке*"
   ]
  },
  {
   "cell_type": "markdown",
   "metadata": {},
   "source": [
    "### Вопрос 2\n",
    "Пусть дано множество 1-D входов ${x^{(i)} \\in \\mathbb{R}^{100}}$. \n",
    "\n",
    "Рассмотрим полносвязный слой ${f(\\cdot)}$, заданный как ${f(x^{(i)}) = \\sigma(Wx^{(i)})}$, где ${W}$ - матрица весов размерности ${1000\\times 100}$ и ${\\sigma(\\cdot)}$ поэлементая функция активации. \n",
    "\n",
    "Рассмотрим также сверточный слой ${g(\\cdot)}$ с десятью картами признаков: ${g(x^{(i)}) = \\sigma([z_1, z_2,...,z_{10}])}$, где ${z_j = x^{(i)}\\ast w_j}$ для некоторого ядра свертки ${w_j}$ с размером 3 и паддингом 1. Для ${f(\\cdot)}$ и ${g(\\cdot)}$ напишите: \n",
    "\n",
    "1. Размерность выходного пространства. \n",
    "2. Количество обучаемых параметров. \n",
    "3. Число операций при выполнении forward pass (при условии наивной реализации перемножения матриц и вычисления сверток)."
   ]
  },
  {
   "cell_type": "markdown",
   "metadata": {},
   "source": [
    "*Ваш ответ в этой ячейке*"
   ]
  },
  {
   "cell_type": "markdown",
   "metadata": {},
   "source": [
    "## Бонус: постобработка изображений (1 балл)\n",
    "\n",
    "В предложенной задаче на фотографиях необходимо сегментировать только центральное изображения. Артефакты, которые появляются на краях изображения, можно удалять с помощью постобработки (например, с помощью модуля [skimage.morphology](https://scikit-image.org/docs/dev/api/skimage.morphology.html)).\n",
    "\n",
    "Реализуйте какой-нибудь из методов постобработки, дающий прирост в качестве. Продемонстрируйте несколько изображений, на которых постобработка будет оказывать влияние на результат сегментации."
   ]
  },
  {
   "cell_type": "markdown",
   "metadata": {},
   "source": [
    "## Бонус: существенное улучшение качества (2 балла)"
   ]
  },
  {
   "cell_type": "markdown",
   "metadata": {},
   "source": [
    "Придумайте какой-нибудь трюк, который существенно (с учётом бонусного пункта 1) повысит качество (которое должно быть и так достаточно высоко). Не разрешается использовать дополнительные данные или другие предобученные кодировщики кроме VGG13.\n",
    "\n",
    "Если вы что-то попробовали, но качество не повысилось, всё равно оформите этот пункт, даже за неудачные попытки могут быть начислены баллы."
   ]
  },
  {
   "cell_type": "markdown",
   "metadata": {},
   "source": [
    "## Бонус: обучение с использованием сторонних фреймворков (1 балл)"
   ]
  },
  {
   "cell_type": "markdown",
   "metadata": {},
   "source": [
    "Попробуйте обучить свою модель с использованием одного из следующих фреймворков: [catalyst](https://github.com/catalyst-team/catalyst), [pytorch-lightning](https://www.pytorchlightning.ai/), [ignite](https://github.com/pytorch/ignite)."
   ]
  }
 ],
 "metadata": {
  "kernelspec": {
   "display_name": "Python 3",
   "language": "python",
   "name": "python3"
  },
  "language_info": {
   "codemirror_mode": {
    "name": "ipython",
    "version": 3
   },
   "file_extension": ".py",
   "mimetype": "text/x-python",
   "name": "python",
   "nbconvert_exporter": "python",
   "pygments_lexer": "ipython3",
   "version": "3.7.12"
  },
  "toc": {
   "base_numbering": 1,
   "nav_menu": {},
   "number_sections": true,
   "sideBar": true,
   "skip_h1_title": false,
   "title_cell": "Table of Contents",
   "title_sidebar": "Contents",
   "toc_cell": false,
   "toc_position": {},
   "toc_section_display": true,
   "toc_window_display": false
  }
 },
 "nbformat": 4,
 "nbformat_minor": 2
}
